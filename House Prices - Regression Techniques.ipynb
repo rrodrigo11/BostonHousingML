{
  "nbformat": 4,
  "nbformat_minor": 0,
  "metadata": {
    "colab": {
      "provenance": [],
      "authorship_tag": "ABX9TyNGgXD8viELe03ugrb+c/Is",
      "include_colab_link": true
    },
    "kernelspec": {
      "name": "python3",
      "display_name": "Python 3"
    },
    "language_info": {
      "name": "python"
    }
  },
  "cells": [
    {
      "cell_type": "markdown",
      "metadata": {
        "id": "view-in-github",
        "colab_type": "text"
      },
      "source": [
        "<a href=\"https://colab.research.google.com/github/rrodrigo11/BostonHousingML/blob/main/House%20Prices%20-%20Regression%20Techniques.ipynb\" target=\"_parent\"><img src=\"https://colab.research.google.com/assets/colab-badge.svg\" alt=\"Open In Colab\"/></a>"
      ]
    },
    {
      "cell_type": "markdown",
      "source": [
        "This is a notebook that contains basic handling values for data.\n",
        "\n",
        "Using technique like :dropping columns with missing values, simple impute and complex impute"
      ],
      "metadata": {
        "id": "p1JfSPzhDIxe"
      }
    },
    {
      "cell_type": "code",
      "execution_count": 1,
      "metadata": {
        "id": "mv9eCEMCDDum"
      },
      "outputs": [],
      "source": [
        "import pandas as pd\n",
        "\n",
        "# Load data\n",
        "train_data = pd.read_csv('../content/train.csv')\n",
        "test_data = pd.read_csv('../content/test.csv')\n",
        "\n",
        "from sklearn.ensemble import RandomForestRegressor\n",
        "from sklearn.metrics import mean_absolute_error\n",
        "from sklearn.model_selection import train_test_split\n",
        "\n",
        "train_data_target = train_data.SalePrice\n",
        "train_data_predictors = train_data.drop(['SalePrice'], axis=1)\n",
        "\n",
        "# I will avoid using non-numeric variables, because it will make my work easier.\n",
        "train_data_numeric_predictors = train_data_predictors.select_dtypes(exclude=['object'])\n",
        "test_data_numeric_predictors = test_data.select_dtypes(exclude=['object'])\n"
      ]
    },
    {
      "cell_type": "code",
      "source": [
        "X_train, X_test, y_train, y_test = train_test_split(train_data_numeric_predictors,\n",
        "                                                    train_data_target,\n",
        "                                                    train_size=0.7,\n",
        "                                                    test_size=0.3,\n",
        "                                                    random_state=1)\n",
        "\n",
        "def score_dataset(X_train, X_test, y_train, y_test):\n",
        "    #print(y_train.describe().apply(lambda x: '{:.2f}'.format(x)))\n",
        "    model = RandomForestRegressor(random_state = 1)\n",
        "    model.fit(X_train, y_train)\n",
        "    preds = model.predict(X_test)\n",
        "    return mean_absolute_error(y_test, preds), model"
      ],
      "metadata": {
        "id": "Ku9vk-GKPVUn"
      },
      "execution_count": 2,
      "outputs": []
    },
    {
      "cell_type": "markdown",
      "source": [
        "*Droping missing values*\n"
      ],
      "metadata": {
        "id": "ytZ-u7WQSccV"
      }
    },
    {
      "cell_type": "code",
      "source": [
        "cols_with_missing = [col for col in X_train.columns\n",
        "                                 if X_train[col].isnull().any()]\n",
        "reduced_X_train = X_train.drop(cols_with_missing, axis=1)\n",
        "reduced_X_test  = X_test.drop(cols_with_missing, axis=1)\n",
        "print(\"Mean Absolute Error from dropping columns with Missing Values:\")\n",
        "mae, drop_na_model = score_dataset(reduced_X_train, reduced_X_test, y_train, y_test)\n",
        "print(mae)"
      ],
      "metadata": {
        "colab": {
          "base_uri": "https://localhost:8080/"
        },
        "id": "p-CYXzWiSRxH",
        "outputId": "9edbebfc-712c-441d-9bce-3c7d3193cb9e"
      },
      "execution_count": 3,
      "outputs": [
        {
          "output_type": "stream",
          "name": "stdout",
          "text": [
            "Mean Absolute Error from dropping columns with Missing Values:\n",
            "18235.67107305936\n"
          ]
        }
      ]
    },
    {
      "cell_type": "markdown",
      "source": [
        "*Simple impute*"
      ],
      "metadata": {
        "id": "Lf6NYzVSS0Vh"
      }
    },
    {
      "cell_type": "code",
      "source": [
        "from sklearn.impute import SimpleImputer\n",
        "\n",
        "my_imputer = SimpleImputer()\n",
        "imputed_X_train = my_imputer.fit_transform(X_train)\n",
        "imputed_X_test = my_imputer.transform(X_test)\n",
        "print(\"Mean Absolute Error from Imputation:\")\n",
        "mae, simple_impute_model = score_dataset(imputed_X_train, imputed_X_test, y_train, y_test)\n",
        "print(mae)"
      ],
      "metadata": {
        "colab": {
          "base_uri": "https://localhost:8080/"
        },
        "id": "xwnNUYShSj_k",
        "outputId": "1451c7f3-b44f-44de-ae8d-39ffb303be0d"
      },
      "execution_count": 4,
      "outputs": [
        {
          "output_type": "stream",
          "name": "stdout",
          "text": [
            "Mean Absolute Error from Imputation:\n",
            "17772.564315068492\n"
          ]
        }
      ]
    },
    {
      "cell_type": "markdown",
      "source": [
        "Complex impute"
      ],
      "metadata": {
        "id": "JSssxTVTsyql"
      }
    },
    {
      "cell_type": "code",
      "source": [
        "imputed_X_train_plus = X_train.copy()\n",
        "imputed_X_test_plus = X_test.copy()\n",
        "\n",
        "cols_with_missing = (col for col in X_train.columns\n",
        "                                 if X_train[col].isnull().any())\n",
        "for col in cols_with_missing:\n",
        "    imputed_X_train_plus[col + '_was_missing'] = imputed_X_train_plus[col].isnull()\n",
        "    imputed_X_test_plus[col + '_was_missing'] = imputed_X_test_plus[col].isnull()\n",
        "\n",
        "# Imputation\n",
        "my_imputer = SimpleImputer()\n",
        "imputed_X_train_plus = my_imputer.fit_transform(imputed_X_train_plus)\n",
        "imputed_X_test_plus = my_imputer.transform(imputed_X_test_plus)\n",
        "\n",
        "print(\"Mean Absolute Error from Imputation while Track What Was Imputed:\")\n",
        "mae, complex_impute_model = score_dataset(imputed_X_train_plus, imputed_X_test_plus, y_train, y_test)\n",
        "print(mae)"
      ],
      "metadata": {
        "colab": {
          "base_uri": "https://localhost:8080/"
        },
        "id": "yrrTVR8OS5GW",
        "outputId": "4e2835b0-f172-4a92-c8d7-85573423c12d"
      },
      "execution_count": 5,
      "outputs": [
        {
          "output_type": "stream",
          "name": "stdout",
          "text": [
            "Mean Absolute Error from Imputation while Track What Was Imputed:\n",
            "17845.077534246575\n"
          ]
        }
      ]
    },
    {
      "cell_type": "markdown",
      "source": [
        "After reviewing the mean absolute value of each test. The best result comes out of simple impute.\n",
        "This will be the model used for this regression problem."
      ],
      "metadata": {
        "id": "f-JWOkx9s1Jq"
      }
    },
    {
      "cell_type": "code",
      "source": [
        "imputed_X_train = my_imputer.fit_transform(X_train)\n",
        "imputed_test_data_predictors = my_imputer.transform(test_data_numeric_predictors)\n",
        "test_data_preds = simple_impute_model.predict(imputed_test_data_predictors)\n"
      ],
      "metadata": {
        "id": "xYd8aNYAUe-u"
      },
      "execution_count": 6,
      "outputs": []
    },
    {
      "cell_type": "code",
      "source": [
        "output = pd.DataFrame({'Id': test_data.Id,\n",
        "                       'SalePrice': test_data_preds})\n",
        "print(output)"
      ],
      "metadata": {
        "colab": {
          "base_uri": "https://localhost:8080/"
        },
        "id": "3fRRW0Pkb7bk",
        "outputId": "31f7fbcd-9cb0-49b3-cbb8-3cf0eb7e0621"
      },
      "execution_count": 8,
      "outputs": [
        {
          "output_type": "stream",
          "name": "stdout",
          "text": [
            "        Id  SalePrice\n",
            "0     1461  128016.58\n",
            "1     1462  153953.50\n",
            "2     1463  185536.07\n",
            "3     1464  182411.82\n",
            "4     1465  199771.85\n",
            "...    ...        ...\n",
            "1454  2915   83892.00\n",
            "1455  2916   84533.00\n",
            "1456  2917  158861.27\n",
            "1457  2918  118162.75\n",
            "1458  2919  244000.85\n",
            "\n",
            "[1459 rows x 2 columns]\n"
          ]
        }
      ]
    },
    {
      "cell_type": "code",
      "source": [],
      "metadata": {
        "id": "UgRPEaxZt4MN"
      },
      "execution_count": 7,
      "outputs": []
    }
  ]
}