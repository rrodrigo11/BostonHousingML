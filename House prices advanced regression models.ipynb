{
  "nbformat": 4,
  "nbformat_minor": 0,
  "metadata": {
    "colab": {
      "provenance": [],
      "authorship_tag": "ABX9TyPOQwYRJgMPcELomRFkMuuT",
      "include_colab_link": true
    },
    "kernelspec": {
      "name": "python3",
      "display_name": "Python 3"
    },
    "language_info": {
      "name": "python"
    }
  },
  "cells": [
    {
      "cell_type": "markdown",
      "metadata": {
        "id": "view-in-github",
        "colab_type": "text"
      },
      "source": [
        "<a href=\"https://colab.research.google.com/github/rrodrigo11/BostonHousingML/blob/main/House%20prices%20advanced%20regression%20models.ipynb\" target=\"_parent\"><img src=\"https://colab.research.google.com/assets/colab-badge.svg\" alt=\"Open In Colab\"/></a>"
      ]
    },
    {
      "cell_type": "markdown",
      "source": [
        "This is a notebook that contains basic handling values for data.\n",
        "\n",
        "Using technique like :dropping columns with missing values, simple impute and complex impute"
      ],
      "metadata": {
        "id": "p1JfSPzhDIxe"
      }
    },
    {
      "cell_type": "code",
      "execution_count": 1,
      "metadata": {
        "id": "mv9eCEMCDDum"
      },
      "outputs": [],
      "source": [
        "import pandas as pd\n",
        "import numpy as np\n",
        "\n",
        "# Load data\n",
        "train_data = pd.read_csv('../content/train.csv')\n",
        "test_data = pd.read_csv('../content/test.csv')\n",
        "\n",
        "from sklearn.model_selection import train_test_split\n",
        "from sklearn.impute import SimpleImputer\n",
        "\n",
        "# Evaluating model performance metrics\n",
        "from sklearn.metrics import mean_squared_error          #MSE\n",
        "from sklearn.metrics import mean_absolute_error         #MAE\n",
        "\n",
        "# Regression models\n",
        "from sklearn.linear_model import LinearRegression       #Linear Regression\n",
        "from sklearn.preprocessing import PolynomialFeatures    #Polynomial Regression\n",
        "from sklearn.ensemble import RandomForestRegressor      #Random Forest Regression\n",
        "\n",
        "# Target variable\n",
        "train_data_target = train_data.SalePrice\n",
        "train_data_predictors = train_data.drop(['SalePrice'], axis=1)\n",
        "\n",
        "# I will avoid using non-numeric variables, because it will make my work easier.\n",
        "train_data_numeric_predictors = train_data_predictors.select_dtypes(exclude=['object'])\n",
        "test_data_numeric_predictors = test_data.select_dtypes(exclude=['object'])\n",
        "\n",
        "# Split data into training and testing sets\n",
        "X_train, X_test, y_train, y_test = train_test_split(train_data_numeric_predictors,\n",
        "                                                    train_data_target,\n",
        "                                                    random_state=1)"
      ]
    },
    {
      "cell_type": "markdown",
      "source": [
        "*Creatting Simple impute data sets*"
      ],
      "metadata": {
        "id": "Lf6NYzVSS0Vh"
      }
    },
    {
      "cell_type": "code",
      "source": [
        "# For this Notebook I will use only Simple Impute for handling missing values\n",
        "my_imputer = SimpleImputer()\n",
        "imputed_X_train = my_imputer.fit_transform(X_train)\n",
        "imputed_X_test = my_imputer.transform(X_test)"
      ],
      "metadata": {
        "id": "xwnNUYShSj_k"
      },
      "execution_count": 2,
      "outputs": []
    },
    {
      "cell_type": "markdown",
      "source": [
        "Random Forest Simple Impute"
      ],
      "metadata": {
        "id": "UiYtTKhkUoG7"
      }
    },
    {
      "cell_type": "code",
      "source": [
        "def randomforest_score(X_train, X_test, y_train, y_test):\n",
        "    model = RandomForestRegressor(random_state = 1)\n",
        "    model.fit(X_train, y_train)\n",
        "    preds = model.predict(X_test)\n",
        "    rmse = np.sqrt(mean_squared_error(y_test, preds))\n",
        "    mae = mean_absolute_error(y_test, preds)\n",
        "    return rmse, mae, model"
      ],
      "metadata": {
        "id": "Ku9vk-GKPVUn"
      },
      "execution_count": 3,
      "outputs": []
    },
    {
      "cell_type": "code",
      "source": [
        "rmse, mae, randomforest_model = randomforest_score(imputed_X_train, imputed_X_test, y_train, y_test)\n",
        "print(f'Root Mean Square Error: {rmse}')\n",
        "print(f'Mean Absolute Error: {mae}')"
      ],
      "metadata": {
        "colab": {
          "base_uri": "https://localhost:8080/"
        },
        "id": "rFM1PEFBUm3h",
        "outputId": "08a9e3c7-a52e-4c8d-8216-06565f32b751"
      },
      "execution_count": 4,
      "outputs": [
        {
          "output_type": "stream",
          "name": "stdout",
          "text": [
            "Root Mean Square Error: 26633.79278912926\n",
            "Mean Absolute Error: 16953.229671232875\n"
          ]
        }
      ]
    },
    {
      "cell_type": "code",
      "source": [
        "imputed_X_train = my_imputer.fit_transform(X_train)\n",
        "imputed_test_data_predictors = my_imputer.transform(test_data_numeric_predictors)\n",
        "test_data_preds = randomforest_model.predict(imputed_test_data_predictors)"
      ],
      "metadata": {
        "id": "xYd8aNYAUe-u"
      },
      "execution_count": 5,
      "outputs": []
    },
    {
      "cell_type": "code",
      "source": [
        "print(test_data_preds[:5])"
      ],
      "metadata": {
        "colab": {
          "base_uri": "https://localhost:8080/"
        },
        "id": "S414u2EzZPyI",
        "outputId": "b82bd252-2ed5-4233-a51e-64eb509f95f3"
      },
      "execution_count": 6,
      "outputs": [
        {
          "output_type": "stream",
          "name": "stdout",
          "text": [
            "[127539.67 155016.75 181038.36 183720.67 200113.24]\n"
          ]
        }
      ]
    },
    {
      "cell_type": "markdown",
      "source": [
        "Linear Regression Simple Impute"
      ],
      "metadata": {
        "id": "sWs5uIQVRq1r"
      }
    },
    {
      "cell_type": "code",
      "source": [
        "my_imputer = SimpleImputer()\n",
        "imputed_X_train = my_imputer.fit_transform(X_train)\n",
        "imputed_X_test = my_imputer.transform(X_test)"
      ],
      "metadata": {
        "id": "cDZCotHpayt1"
      },
      "execution_count": 7,
      "outputs": []
    },
    {
      "cell_type": "code",
      "source": [
        "def linear_score(X_train, X_test, y_train, y_test):\n",
        "    linear_model = LinearRegression()\n",
        "    linear_model.fit(X_train, y_train)\n",
        "    preds = linear_model.predict(X_test)\n",
        "    rmse = np.sqrt(mean_squared_error(y_test, preds))\n",
        "    mae = mean_absolute_error(y_test, preds)\n",
        "    return rmse, mae, linear_model"
      ],
      "metadata": {
        "id": "wlAxy1TIRqJ6"
      },
      "execution_count": 8,
      "outputs": []
    },
    {
      "cell_type": "code",
      "source": [
        "rmse, mae, linear_model = linear_score(imputed_X_train, imputed_X_test, y_train, y_test)\n",
        "print(f'Root Mean Square Error: {rmse}')\n",
        "print(f'Mean Absolute Error: {mae}')"
      ],
      "metadata": {
        "colab": {
          "base_uri": "https://localhost:8080/"
        },
        "id": "uVWYH4lnSpFk",
        "outputId": "e505f4e3-2be4-4b31-8100-7a16ea9f552f"
      },
      "execution_count": 13,
      "outputs": [
        {
          "output_type": "stream",
          "name": "stdout",
          "text": [
            "Root Mean Square Error: 34424.65515902593\n",
            "Mean Absolute Error: 21412.258132486975\n"
          ]
        }
      ]
    },
    {
      "cell_type": "code",
      "source": [
        "imputed_X_train = my_imputer.fit_transform(X_train)\n",
        "imputed_test_data_predictors = my_imputer.transform(test_data_numeric_predictors)\n",
        "test_data_preds = linear_model.predict(imputed_test_data_predictors)"
      ],
      "metadata": {
        "id": "xuqJRzAhbBfp"
      },
      "execution_count": 14,
      "outputs": []
    },
    {
      "cell_type": "code",
      "source": [
        "print(test_data_preds[:5])"
      ],
      "metadata": {
        "colab": {
          "base_uri": "https://localhost:8080/"
        },
        "id": "kKXmsKs9bDT0",
        "outputId": "cfa347fe-50aa-4bee-d0ba-987500bdbfcf"
      },
      "execution_count": 15,
      "outputs": [
        {
          "output_type": "stream",
          "name": "stdout",
          "text": [
            "[118659.57101483 157527.49748753 169093.58963458 199724.27646324\n",
            " 198290.85762819]\n"
          ]
        }
      ]
    },
    {
      "cell_type": "markdown",
      "source": [
        "Polynomial Regression Simple Impute"
      ],
      "metadata": {
        "id": "wOiMYIm_aDyq"
      }
    },
    {
      "cell_type": "code",
      "source": [
        "my_imputer = SimpleImputer()\n",
        "imputed_X_train = my_imputer.fit_transform(X_train)\n",
        "imputed_X_test = my_imputer.transform(X_test)"
      ],
      "metadata": {
        "id": "O_hmsGdSa5Wi"
      },
      "execution_count": 2,
      "outputs": []
    },
    {
      "cell_type": "code",
      "source": [
        "def polynomial_score(X_train, X_test, y_train, y_test):\n",
        "    #reshape training set\n",
        "    poly = PolynomialFeatures(degree=2)\n",
        "    X_poly = poly.fit_transform(X_train)\n",
        "\n",
        "    model = LinearRegression()\n",
        "    model.fit(X_poly, y_train)\n",
        "\n",
        "    X_test_poly = poly.transform(X_test)\n",
        "    preds = model.predict(X_test_poly)\n",
        "\n",
        "    rmse = np.sqrt(mean_squared_error(y_test, preds))\n",
        "    mae = mean_absolute_error(y_test, preds)\n",
        "    return rmse, mae, model"
      ],
      "metadata": {
        "id": "9zqiZcKVaG_1"
      },
      "execution_count": 25,
      "outputs": []
    },
    {
      "cell_type": "code",
      "source": [
        "rmse, mae, polynomial_model = polynomial_score(imputed_X_train, imputed_X_test, y_train, y_test)\n",
        "print(f'Root Mean Square Error: {rmse}')\n",
        "print(f'Mean Absolute Error: {mae}')"
      ],
      "metadata": {
        "colab": {
          "base_uri": "https://localhost:8080/"
        },
        "id": "9-JYdlWEaKvs",
        "outputId": "daedef86-ce79-4de8-9738-26d7526dc843"
      },
      "execution_count": 26,
      "outputs": [
        {
          "output_type": "stream",
          "name": "stdout",
          "text": [
            "Root Mean Square Error: 371609.8490039809\n",
            "Mean Absolute Error: 71631.29829993722\n"
          ]
        }
      ]
    },
    {
      "cell_type": "code",
      "source": [
        "output = pd.DataFrame({'Id': test_data.Id,\n",
        "                       'SalePrice': test_data_preds})\n",
        "print(output)"
      ],
      "metadata": {
        "colab": {
          "base_uri": "https://localhost:8080/"
        },
        "id": "3fRRW0Pkb7bk",
        "outputId": "4ad41c48-9023-491d-e6c5-58bbcea48050"
      },
      "execution_count": 12,
      "outputs": [
        {
          "output_type": "stream",
          "name": "stdout",
          "text": [
            "        Id  SalePrice\n",
            "0     1461  127539.67\n",
            "1     1462  155016.75\n",
            "2     1463  181038.36\n",
            "3     1464  183720.67\n",
            "4     1465  200113.24\n",
            "...    ...        ...\n",
            "1454  2915   83779.50\n",
            "1455  2916   84901.71\n",
            "1456  2917  161214.50\n",
            "1457  2918  118263.00\n",
            "1458  2919  236377.66\n",
            "\n",
            "[1459 rows x 2 columns]\n"
          ]
        }
      ]
    },
    {
      "cell_type": "code",
      "source": [],
      "metadata": {
        "id": "UgRPEaxZt4MN"
      },
      "execution_count": 12,
      "outputs": []
    }
  ]
}